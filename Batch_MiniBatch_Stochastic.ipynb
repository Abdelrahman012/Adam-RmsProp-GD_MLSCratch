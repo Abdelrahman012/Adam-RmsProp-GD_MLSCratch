{
 "cells": [
  {
   "cell_type": "markdown",
   "metadata": {},
   "source": [
    "## Practical Work 2"
   ]
  },
  {
   "cell_type": "markdown",
   "metadata": {},
   "source": [
    "For this practical work, the student will have to develop a Python program that is able to implement the gradient descent variants (Batch/Mini-Batch/Stochastic) in order to achieve the linear regression of a set of datapoints."
   ]
  },
  {
   "cell_type": "markdown",
   "metadata": {},
   "source": [
    "#### Import numpy, matplotlib.pyplot and make it inline"
   ]
  },
  {
   "cell_type": "code",
   "execution_count": 1,
   "metadata": {},
   "outputs": [],
   "source": [
    "import numpy as np\n",
    "import pandas as pd\n",
    "import matplotlib.pyplot as plt\n"
   ]
  },
  {
   "cell_type": "markdown",
   "metadata": {},
   "source": [
    "To have a dataset or set of data points, the student must generate a pair of arrays <b>X</b> and <b>y</b> with the values in <b>X</b> equally distributed between <b>0</b> and <b>20</b> and the values in <b>y</b> such that: \n",
    "<b>yi = a*xi + b (and a = -2, b = 1)</b>\n"
   ]
  },
  {
   "cell_type": "markdown",
   "metadata": {},
   "source": [
    "#### Use your code from practical session 1 and create a function to perform GD for single variable linear regression.\n",
    "#### The function should take the following input parameters:\n",
    "##### Input data (X), Target Labels (y), Learning Rate (alpha), Maximum number of iterations\n",
    "#### The function should return the following:\n",
    "##### All Theta_0 and Theta_1 values till converge, and equivellant Losses, all hypothesis output, and optimum values of Theta_0 and Theta_1\n",
    "#### Note: you can choose any suitable stop criteria."
   ]
  },
  {
   "cell_type": "code",
   "execution_count": 2,
   "metadata": {},
   "outputs": [
    {
     "name": "stdout",
     "output_type": "stream",
     "text": [
      "theta_0 is 0.9120818879539632,theta_1 is -1.9934603090276992,loss_function is 0.0009954884874703038\n",
      "[[  0.91208189]\n",
      " [  0.09842462]\n",
      " [ -0.71523265]\n",
      " [ -1.52888992]\n",
      " [ -2.34254719]\n",
      " [ -3.15620446]\n",
      " [ -3.96986173]\n",
      " [ -4.78351899]\n",
      " [ -5.59717626]\n",
      " [ -6.41083353]\n",
      " [ -7.2244908 ]\n",
      " [ -8.03814807]\n",
      " [ -8.85180534]\n",
      " [ -9.66546261]\n",
      " [-10.47911988]\n",
      " [-11.29277715]\n",
      " [-12.10643442]\n",
      " [-12.92009168]\n",
      " [-13.73374895]\n",
      " [-14.54740622]\n",
      " [-15.36106349]\n",
      " [-16.17472076]\n",
      " [-16.98837803]\n",
      " [-17.8020353 ]\n",
      " [-18.61569257]\n",
      " [-19.42934984]\n",
      " [-20.24300711]\n",
      " [-21.05666437]\n",
      " [-21.87032164]\n",
      " [-22.68397891]\n",
      " [-23.49763618]\n",
      " [-24.31129345]\n",
      " [-25.12495072]\n",
      " [-25.93860799]\n",
      " [-26.75226526]\n",
      " [-27.56592253]\n",
      " [-28.3795798 ]\n",
      " [-29.19323706]\n",
      " [-30.00689433]\n",
      " [-30.8205516 ]\n",
      " [-31.63420887]\n",
      " [-32.44786614]\n",
      " [-33.26152341]\n",
      " [-34.07518068]\n",
      " [-34.88883795]\n",
      " [-35.70249522]\n",
      " [-36.51615249]\n",
      " [-37.32980975]\n",
      " [-38.14346702]\n",
      " [-38.95712429]]\n"
     ]
    }
   ],
   "source": [
    "# Linear Regression Model\n",
    "import numpy as np\n",
    "from numpy.linalg import norm\n",
    "# h(x)=theta_0+theta_1*x\n",
    "x_points=np.linspace(0,20,50).reshape(50,1)\n",
    "y_points=-2*x_points+1\n",
    "#hypothes to equation with theta_o value=10 and  theta_1=10\n",
    "\n",
    "def calc(theta_0,theta_1):\n",
    "    y_pred=theta_0+theta_1*x_points\n",
    "\n",
    "    loss_function=1/ (2*y_pred.shape[0])*((y_pred-y_points)**2).sum()    \n",
    "    return (loss_function,y_pred)\n",
    "    \n",
    "def Batch(x_points,y_points,alpha,max_iter):\n",
    "    theta_0=1\n",
    "    theta_1=1\n",
    "    loss_function,y_pred=calc(theta_0,theta_1)\n",
    "\n",
    "    iter=0\n",
    "    iter_lst=[]\n",
    "    loss_function_lst=[]\n",
    "    theta0_lst=[]\n",
    "    theta1_lst=[]\n",
    "\n",
    "    while iter<max_iter:\n",
    "        alpha=alpha\n",
    "        theta0_lst.append(theta_0) #make a list of theta zer0 to make our plot with loss function\n",
    "        theta1_lst.append(theta_1) #make a list of thta one to make our plot\n",
    "        theta_0=theta_0-alpha*(1/y_pred.shape[0])*((y_pred-y_points).sum())\n",
    "        theta_1=theta_1-alpha*(1/y_pred.shape[0])*((y_pred-y_points)*x_points).sum()\n",
    "        loss_function,y_pred=calc(theta_0,theta_1)\n",
    "        ######################3\n",
    "        iter_lst.append(iter)\n",
    "        loss_function_lst.append(loss_function)\n",
    "        #############################3A\n",
    "        theta0_lst.append(theta_0)\n",
    "        theta1_lst.append(theta_1)\n",
    "        ############################\n",
    "        \n",
    "        iter+=1\n",
    "        if loss_function<.001:\n",
    "            break\n",
    "    return theta_0,theta_1,loss_function,theta0_lst,theta1_lst,loss_function_lst\n",
    "theta_0,theta_1,loss_function,lst0,lst1,lst3=Batch(x_points,y_points,.01,2000)\n",
    "print(f\"theta_0 is {theta_0},theta_1 is {theta_1},loss_function is {loss_function}\")    \n",
    "\n",
    "y_pred1=theta_0+theta_1*x_points\n",
    "print(y_pred1)\n"
   ]
  },
  {
   "cell_type": "markdown",
   "metadata": {},
   "source": [
    "#### Try your function with any input parameterss of your choice."
   ]
  },
  {
   "cell_type": "markdown",
   "metadata": {},
   "source": [
    "#### Calculate r2 score"
   ]
  },
  {
   "cell_type": "code",
   "execution_count": 3,
   "metadata": {},
   "outputs": [
    {
     "name": "stdout",
     "output_type": "stream",
     "text": [
      "0.9999856532541511\n"
     ]
    }
   ],
   "source": [
    "from sklearn.metrics import r2_score\n",
    "R2=r2_score(y_true=y_points.reshape(50,1),y_pred=y_pred1.reshape(50,1))\n",
    "print(R2)"
   ]
  },
  {
   "cell_type": "code",
   "execution_count": null,
   "metadata": {},
   "outputs": [],
   "source": []
  },
  {
   "cell_type": "code",
   "execution_count": null,
   "metadata": {},
   "outputs": [],
   "source": []
  },
  {
   "cell_type": "markdown",
   "metadata": {},
   "source": [
    "#### Plot loss vs. epochs"
   ]
  },
  {
   "cell_type": "code",
   "execution_count": 4,
   "metadata": {},
   "outputs": [
    {
     "data": {
      "image/png": "[encoded data removed]",
      "text/plain": [
       "<Figure size 432x288 with 1 Axes>"
      ]
     },
     "metadata": {
      "needs_background": "light"
     },
     "output_type": "display_data"
    }
   ],
   "source": [
    "#iterations versus the loss function untill reaching the min value of loss function\n",
    "plt.plot(lst3[0:20])\n",
    "plt.title(\"iterations vs loss function\")\n",
    "plt.show()\n"
   ]
  },
  {
   "cell_type": "code",
   "execution_count": null,
   "metadata": {
    "scrolled": false
   },
   "outputs": [],
   "source": []
  },
  {
   "cell_type": "markdown",
   "metadata": {},
   "source": [
    "#### Plot Theta_0 vs. loss and Theta_1 vs. loss"
   ]
  },
  {
   "cell_type": "code",
   "execution_count": 5,
   "metadata": {},
   "outputs": [
    {
     "data": {
      "image/png": "[encoded data removed]",
      "text/plain": [
       "<Figure size 432x288 with 1 Axes>"
      ]
     },
     "metadata": {
      "needs_background": "light"
     },
     "output_type": "display_data"
    },
    {
     "data": {
      "image/png": "[encoded data removed]",
      "text/plain": [
       "<Figure size 432x288 with 1 Axes>"
      ]
     },
     "metadata": {
      "needs_background": "light"
     },
     "output_type": "display_data"
    }
   ],
   "source": [
    "plt.plot(lst0[0:361],lst3[0:361])\n",
    "plt.show()\n",
    "#######33\n",
    "plt.plot(lst1[0:361],lst3[0:361])\n",
    "plt.show()"
   ]
  },
  {
   "cell_type": "code",
   "execution_count": null,
   "metadata": {},
   "outputs": [],
   "source": []
  },
  {
   "cell_type": "code",
   "execution_count": null,
   "metadata": {},
   "outputs": [],
   "source": []
  },
  {
   "cell_type": "markdown",
   "metadata": {},
   "source": [
    "#### Plot all regression lines till converge"
   ]
  },
  {
   "cell_type": "code",
   "execution_count": 6,
   "metadata": {},
   "outputs": [
    {
     "name": "stdout",
     "output_type": "stream",
     "text": [
      "0.7\n"
     ]
    },
    {
     "data": {
      "image/png": "[encoded data removed]",
      "text/plain": [
       "<Figure size 432x288 with 1 Axes>"
      ]
     },
     "metadata": {
      "needs_background": "light"
     },
     "output_type": "display_data"
    }
   ],
   "source": [
    "plt.scatter(x_points,y_points)\n",
    "ax=np.linspace(0,15)\n",
    "print(lst0[1])\n",
    "for i in range(len(lst0)):\n",
    "    \n",
    "    plt.plot(ax,lst0[i]+lst1[i]*ax)"
   ]
  },
  {
   "cell_type": "code",
   "execution_count": null,
   "metadata": {},
   "outputs": [],
   "source": []
  },
  {
   "cell_type": "markdown",
   "metadata": {},
   "source": [
    "#### Plot the best regression line"
   ]
  },
  {
   "cell_type": "code",
   "execution_count": 7,
   "metadata": {
    "scrolled": true
   },
   "outputs": [
    {
     "data": {
      "image/png": "[encoded data removed]",
      "text/plain": [
       "<Figure size 432x288 with 1 Axes>"
      ]
     },
     "metadata": {
      "needs_background": "light"
     },
     "output_type": "display_data"
    }
   ],
   "source": [
    "import matplotlib.pyplot as plt\n",
    "ax=range(0,15)\n",
    "plt.scatter(x_points,y_points)\n",
    "plt.plot(ax,theta_0+theta_1*ax)\n",
    "plt.xlabel(\"x_points\")\n",
    "plt.ylabel(\"y_points\")\n",
    "plt.title(\"the best fit \")\n",
    "plt.show()"
   ]
  },
  {
   "cell_type": "code",
   "execution_count": null,
   "metadata": {},
   "outputs": [],
   "source": []
  },
  {
   "cell_type": "markdown",
   "metadata": {},
   "source": [
    "#### Try different learning rate and number of iterations then plot loss vs. epochs, loss vs. Theat_0 and Theta_1\n",
    "#### all regression lines till converge, and the best regression line\n",
    "#### and see the difference in output."
   ]
  },
  {
   "cell_type": "code",
   "execution_count": 8,
   "metadata": {},
   "outputs": [],
   "source": [
    "th0,th1,loss_funct,lst0,lst1,lst3=Batch(x_points,y_points,.001,20000)"
   ]
  },
  {
   "cell_type": "code",
   "execution_count": 9,
   "metadata": {},
   "outputs": [
    {
     "data": {
      "text/plain": [
       "[<matplotlib.lines.Line2D at 0x1eaac5f0e80>]"
      ]
     },
     "execution_count": 9,
     "metadata": {},
     "output_type": "execute_result"
    },
    {
     "data": {
      "image/png": "[encoded data removed]",
      "text/plain": [
       "<Figure size 432x288 with 1 Axes>"
      ]
     },
     "metadata": {
      "needs_background": "light"
     },
     "output_type": "display_data"
    }
   ],
   "source": [
    "plt.plot(lst3[0:100])"
   ]
  },
  {
   "cell_type": "code",
   "execution_count": 10,
   "metadata": {},
   "outputs": [
    {
     "name": "stdout",
     "output_type": "stream",
     "text": [
      "0.97\n"
     ]
    },
    {
     "data": {
      "image/png": "[encoded data removed]",
      "text/plain": [
       "<Figure size 432x288 with 1 Axes>"
      ]
     },
     "metadata": {
      "needs_background": "light"
     },
     "output_type": "display_data"
    }
   ],
   "source": [
    "plt.scatter(x_points,y_points)\n",
    "ax=np.linspace(0,15)\n",
    "print(lst0[1])\n",
    "for i in range(len(lst0)):\n",
    "    \n",
    "    plt.plot(ax,lst0[i]+lst1[i]*ax)"
   ]
  },
  {
   "cell_type": "code",
   "execution_count": 11,
   "metadata": {},
   "outputs": [
    {
     "data": {
      "image/png": "[encoded data removed]",
      "text/plain": [
       "<Figure size 432x288 with 1 Axes>"
      ]
     },
     "metadata": {
      "needs_background": "light"
     },
     "output_type": "display_data"
    }
   ],
   "source": [
    "import matplotlib.pyplot as plt\n",
    "ax=range(0,15)\n",
    "plt.scatter(x_points,y_points)\n",
    "plt.plot(ax,th0+th1*ax)\n",
    "plt.xlabel(\"x_points\")\n",
    "plt.ylabel(\"y_points\")\n",
    "plt.title(\"the best fit \")\n",
    "plt.show()"
   ]
  },
  {
   "cell_type": "code",
   "execution_count": null,
   "metadata": {},
   "outputs": [],
   "source": []
  },
  {
   "cell_type": "code",
   "execution_count": null,
   "metadata": {},
   "outputs": [],
   "source": []
  },
  {
   "cell_type": "code",
   "execution_count": null,
   "metadata": {},
   "outputs": [],
   "source": []
  },
  {
   "cell_type": "code",
   "execution_count": null,
   "metadata": {},
   "outputs": [],
   "source": []
  },
  {
   "cell_type": "code",
   "execution_count": null,
   "metadata": {},
   "outputs": [],
   "source": []
  },
  {
   "cell_type": "code",
   "execution_count": null,
   "metadata": {},
   "outputs": [],
   "source": []
  },
  {
   "cell_type": "code",
   "execution_count": 12,
   "metadata": {},
   "outputs": [
    {
     "name": "stdout",
     "output_type": "stream",
     "text": [
      "[[ 0.        ]\n",
      " [ 0.40816327]\n",
      " [ 0.81632653]\n",
      " [ 1.2244898 ]\n",
      " [ 1.63265306]\n",
      " [ 2.04081633]\n",
      " [ 2.44897959]\n",
      " [ 2.85714286]\n",
      " [ 3.26530612]\n",
      " [ 3.67346939]\n",
      " [ 4.08163265]\n",
      " [ 4.48979592]\n",
      " [ 4.89795918]\n",
      " [ 5.30612245]\n",
      " [ 5.71428571]\n",
      " [ 6.12244898]\n",
      " [ 6.53061224]\n",
      " [ 6.93877551]\n",
      " [ 7.34693878]\n",
      " [ 7.75510204]\n",
      " [ 8.16326531]\n",
      " [ 8.57142857]\n",
      " [ 8.97959184]\n",
      " [ 9.3877551 ]\n",
      " [ 9.79591837]\n",
      " [10.20408163]\n",
      " [10.6122449 ]\n",
      " [11.02040816]\n",
      " [11.42857143]\n",
      " [11.83673469]\n",
      " [12.24489796]\n",
      " [12.65306122]\n",
      " [13.06122449]\n",
      " [13.46938776]\n",
      " [13.87755102]\n",
      " [14.28571429]\n",
      " [14.69387755]\n",
      " [15.10204082]\n",
      " [15.51020408]\n",
      " [15.91836735]\n",
      " [16.32653061]\n",
      " [16.73469388]\n",
      " [17.14285714]\n",
      " [17.55102041]\n",
      " [17.95918367]\n",
      " [18.36734694]\n",
      " [18.7755102 ]\n",
      " [19.18367347]\n",
      " [19.59183673]\n",
      " [20.        ]]\n"
     ]
    }
   ],
   "source": [
    "print(x_points)"
   ]
  },
  {
   "cell_type": "code",
   "execution_count": 13,
   "metadata": {},
   "outputs": [
    {
     "name": "stdout",
     "output_type": "stream",
     "text": [
      "[[  1.        ]\n",
      " [  0.18367347]\n",
      " [ -0.63265306]\n",
      " [ -1.44897959]\n",
      " [ -2.26530612]\n",
      " [ -3.08163265]\n",
      " [ -3.89795918]\n",
      " [ -4.71428571]\n",
      " [ -5.53061224]\n",
      " [ -6.34693878]\n",
      " [ -7.16326531]\n",
      " [ -7.97959184]\n",
      " [ -8.79591837]\n",
      " [ -9.6122449 ]\n",
      " [-10.42857143]\n",
      " [-11.24489796]\n",
      " [-12.06122449]\n",
      " [-12.87755102]\n",
      " [-13.69387755]\n",
      " [-14.51020408]\n",
      " [-15.32653061]\n",
      " [-16.14285714]\n",
      " [-16.95918367]\n",
      " [-17.7755102 ]\n",
      " [-18.59183673]\n",
      " [-19.40816327]\n",
      " [-20.2244898 ]\n",
      " [-21.04081633]\n",
      " [-21.85714286]\n",
      " [-22.67346939]\n",
      " [-23.48979592]\n",
      " [-24.30612245]\n",
      " [-25.12244898]\n",
      " [-25.93877551]\n",
      " [-26.75510204]\n",
      " [-27.57142857]\n",
      " [-28.3877551 ]\n",
      " [-29.20408163]\n",
      " [-30.02040816]\n",
      " [-30.83673469]\n",
      " [-31.65306122]\n",
      " [-32.46938776]\n",
      " [-33.28571429]\n",
      " [-34.10204082]\n",
      " [-34.91836735]\n",
      " [-35.73469388]\n",
      " [-36.55102041]\n",
      " [-37.36734694]\n",
      " [-38.18367347]\n",
      " [-39.        ]]\n"
     ]
    }
   ],
   "source": [
    "print(y_points)\n"
   ]
  },
  {
   "cell_type": "markdown",
   "metadata": {},
   "source": [
    "#### Update the implementation of the Batch GD to be Mini-Batch and rpeat the above plots and evaluations\n",
    "#### Change batch size and see the effect"
   ]
  },
  {
   "cell_type": "code",
   "execution_count": 25,
   "metadata": {},
   "outputs": [
    {
     "name": "stdout",
     "output_type": "stream",
     "text": [
      "theta_0 is 0.8956306167365714,theta_1 is -1.9922485767123426,loss_function is 0.0009999827268666224\n",
      "[[  0.89563062]\n",
      " [  0.08246793]\n",
      " [ -0.73069475]\n",
      " [ -1.54385744]\n",
      " [ -2.35702012]\n",
      " [ -3.17018281]\n",
      " [ -3.98334549]\n",
      " [ -4.79650817]\n",
      " [ -5.60967086]\n",
      " [ -6.42283354]\n",
      " [ -7.23599623]\n",
      " [ -8.04915891]\n",
      " [ -8.8623216 ]\n",
      " [ -9.67548428]\n",
      " [-10.48864696]\n",
      " [-11.30180965]\n",
      " [-12.11497233]\n",
      " [-12.92813502]\n",
      " [-13.7412977 ]\n",
      " [-14.55446039]\n",
      " [-15.36762307]\n",
      " [-16.18078576]\n",
      " [-16.99394844]\n",
      " [-17.80711112]\n",
      " [-18.62027381]\n",
      " [-19.43343649]\n",
      " [-20.24659918]\n",
      " [-21.05976186]\n",
      " [-21.87292455]\n",
      " [-22.68608723]\n",
      " [-23.49924991]\n",
      " [-24.3124126 ]\n",
      " [-25.12557528]\n",
      " [-25.93873797]\n",
      " [-26.75190065]\n",
      " [-27.56506334]\n",
      " [-28.37822602]\n",
      " [-29.19138871]\n",
      " [-30.00455139]\n",
      " [-30.81771407]\n",
      " [-31.63087676]\n",
      " [-32.44403944]\n",
      " [-33.25720213]\n",
      " [-34.07036481]\n",
      " [-34.8835275 ]\n",
      " [-35.69669018]\n",
      " [-36.50985286]\n",
      " [-37.32301555]\n",
      " [-38.13617823]\n",
      " [-38.94934092]]\n"
     ]
    }
   ],
   "source": [
    "# Linear Regression Model\n",
    "import numpy as np\n",
    "from numpy.linalg import norm\n",
    "# h(x)=theta_0+theta_1*x\n",
    "x_points=np.linspace(0,20,50).reshape(50,1)\n",
    "y_points=-2*x_points+1\n",
    "#hypothes to equation with theta_o value=10 and  theta_1=10\n",
    "\n",
    "def calc(theta_0,theta_1,xpoints,ypoints):\n",
    "    y_pred=theta_0+theta_1*xpoints\n",
    "\n",
    "    loss_function=1/ (2*y_pred.shape[0])*((y_pred-ypoints)**2).sum()    \n",
    "    return (loss_function,y_pred)\n",
    "    \n",
    "def MiniBatch(x_points,y_points,alpha,max_iter,batch_size):\n",
    "    theta_0=1\n",
    "    theta_1=1\n",
    "    iter=0\n",
    "    iter_lst=[]\n",
    "    loss_function_lst=[]\n",
    "    theta0_lst=[]\n",
    "    theta1_lst=[]\n",
    "\n",
    "    while iter<max_iter:\n",
    "        alpha=alpha\n",
    "        for j in range(int(y_points.shape[0]/batch_size)):    \n",
    "            xpoints=x_points[j*batch_size:j*batch_size+batch_size]\n",
    "            ypoints=y_points[j*batch_size:j*batch_size+batch_size]\n",
    "            loss_function,y_pred=calc(theta_0,theta_1,xpoints,ypoints)\n",
    "            \n",
    "            theta_0=theta_0-alpha*(1/ypoints.shape[0])*((y_pred-ypoints).sum())\n",
    "            theta_1=theta_1-alpha*(1/ypoints.shape[0])*((y_pred-ypoints)*xpoints).sum()\n",
    "            \n",
    "            ######################3\n",
    "            iter_lst.append(iter)\n",
    "            \n",
    "            #############################3A\n",
    "            theta0_lst.append(theta_0)\n",
    "            theta1_lst.append(theta_1)\n",
    "            ############################\n",
    "            loss_function_lst.append(loss_function)\n",
    "        iter+=1\n",
    "        if loss_function<.001:\n",
    "               break\n",
    "    return theta_0,theta_1,loss_function,theta0_lst,theta1_lst,loss_function_lst\n",
    "theta_0,theta_1,loss_function,lst0,lst1,lst3=MiniBatch(x_points,y_points,.00001,100000,5)\n",
    "print(f\"theta_0 is {theta_0},theta_1 is {theta_1},loss_function is {loss_function}\")    \n",
    "\n",
    "y_pred1=theta_0+theta_1*x_points\n",
    "print(y_pred1)\n"
   ]
  },
  {
   "cell_type": "code",
   "execution_count": 26,
   "metadata": {},
   "outputs": [
    {
     "data": {
      "text/plain": [
       "[<matplotlib.lines.Line2D at 0x1eab99f9b50>]"
      ]
     },
     "execution_count": 26,
     "metadata": {},
     "output_type": "execute_result"
    },
    {
     "data": {
      "image/png": "[encoded data removed]",
      "text/plain": [
       "<Figure size 432x288 with 1 Axes>"
      ]
     },
     "metadata": {
      "needs_background": "light"
     },
     "output_type": "display_data"
    }
   ],
   "source": [
    "plt.plot(lst3[0:10000])\n",
    "#print(lst3[0:100])"
   ]
  },
  {
   "cell_type": "code",
   "execution_count": null,
   "metadata": {},
   "outputs": [],
   "source": []
  },
  {
   "cell_type": "code",
   "execution_count": null,
   "metadata": {},
   "outputs": [],
   "source": []
  },
  {
   "cell_type": "code",
   "execution_count": null,
   "metadata": {},
   "outputs": [],
   "source": []
  },
  {
   "cell_type": "code",
   "execution_count": null,
   "metadata": {},
   "outputs": [],
   "source": []
  },
  {
   "cell_type": "code",
   "execution_count": null,
   "metadata": {},
   "outputs": [],
   "source": []
  },
  {
   "cell_type": "code",
   "execution_count": null,
   "metadata": {},
   "outputs": [],
   "source": []
  },
  {
   "cell_type": "code",
   "execution_count": null,
   "metadata": {},
   "outputs": [],
   "source": []
  },
  {
   "cell_type": "code",
   "execution_count": null,
   "metadata": {},
   "outputs": [],
   "source": []
  },
  {
   "cell_type": "code",
   "execution_count": null,
   "metadata": {},
   "outputs": [],
   "source": []
  },
  {
   "cell_type": "code",
   "execution_count": null,
   "metadata": {},
   "outputs": [],
   "source": []
  },
  {
   "cell_type": "code",
   "execution_count": null,
   "metadata": {},
   "outputs": [],
   "source": []
  },
  {
   "cell_type": "code",
   "execution_count": null,
   "metadata": {},
   "outputs": [],
   "source": []
  },
  {
   "cell_type": "code",
   "execution_count": null,
   "metadata": {},
   "outputs": [],
   "source": []
  },
  {
   "cell_type": "markdown",
   "metadata": {},
   "source": [
    "## Stochastic GD"
   ]
  },
  {
   "cell_type": "markdown",
   "metadata": {},
   "source": [
    "#### Update the implementation of the Batch GD to beStochastic and rpeat the above plots and evaluations\n",
    "#### You can try different learning rate and see its effect.\n",
    "#### Compare to Batch and Mini-Batch GD"
   ]
  },
  {
   "cell_type": "code",
   "execution_count": 20,
   "metadata": {},
   "outputs": [
    {
     "name": "stdout",
     "output_type": "stream",
     "text": [
      "theta_0 is 0.906682081295283,theta_1 is -1.9931071380929053,loss_function is 0.00099987843486572\n",
      "[[  0.90668208]\n",
      " [  0.09316896]\n",
      " [ -0.72034415]\n",
      " [ -1.53385727]\n",
      " [ -2.34737039]\n",
      " [ -3.16088351]\n",
      " [ -3.97439662]\n",
      " [ -4.78790974]\n",
      " [ -5.60142286]\n",
      " [ -6.41493598]\n",
      " [ -7.22844909]\n",
      " [ -8.04196221]\n",
      " [ -8.85547533]\n",
      " [ -9.66898845]\n",
      " [-10.48250156]\n",
      " [-11.29601468]\n",
      " [-12.1095278 ]\n",
      " [-12.92304092]\n",
      " [-13.73655404]\n",
      " [-14.55006715]\n",
      " [-15.36358027]\n",
      " [-16.17709339]\n",
      " [-16.99060651]\n",
      " [-17.80411962]\n",
      " [-18.61763274]\n",
      " [-19.43114586]\n",
      " [-20.24465898]\n",
      " [-21.05817209]\n",
      " [-21.87168521]\n",
      " [-22.68519833]\n",
      " [-23.49871145]\n",
      " [-24.31222456]\n",
      " [-25.12573768]\n",
      " [-25.9392508 ]\n",
      " [-26.75276392]\n",
      " [-27.56627703]\n",
      " [-28.37979015]\n",
      " [-29.19330327]\n",
      " [-30.00681639]\n",
      " [-30.8203295 ]\n",
      " [-31.63384262]\n",
      " [-32.44735574]\n",
      " [-33.26086886]\n",
      " [-34.07438198]\n",
      " [-34.88789509]\n",
      " [-35.70140821]\n",
      " [-36.51492133]\n",
      " [-37.32843445]\n",
      " [-38.14194756]\n",
      " [-38.95546068]]\n"
     ]
    }
   ],
   "source": [
    "# Linear Regression Model\n",
    "import numpy as np\n",
    "from numpy.linalg import norm\n",
    "# h(x)=theta_0+theta_1*x\n",
    "x_points=np.linspace(0,20,50).reshape(50,1)\n",
    "y_points=-2*x_points+1\n",
    "#hypothes to equation with theta_o value=10 and  theta_1=10\n",
    "\n",
    "def calc(theta_0,theta_1,xpoints,ypoints):\n",
    "    y_pred=theta_0+theta_1*xpoints\n",
    "\n",
    "    loss_function=1/ (2*y_pred.shape[0])*((y_pred-ypoints)**2).sum()    \n",
    "    return (loss_function,y_pred)\n",
    "    \n",
    "def StochasticBatch(x_points,y_points,alpha,max_iter,batch_size):\n",
    "    theta_0=1\n",
    "    theta_1=1\n",
    "    iter=0\n",
    "    iter_lst=[]\n",
    "    loss_function_lst=[]\n",
    "    theta0_lst=[]\n",
    "    theta1_lst=[]\n",
    "\n",
    "    while iter<max_iter:\n",
    "        alpha=alpha\n",
    "        for j in range(int(y_points.shape[0]/batch_size)):    \n",
    "            xpoints=x_points[j*batch_size:j*batch_size+batch_size]\n",
    "            ypoints=y_points[j*batch_size:j*batch_size+batch_size]\n",
    "            loss_function,y_pred=calc(theta_0,theta_1,xpoints,ypoints)\n",
    "            \n",
    "            theta_0=theta_0-alpha*(1/ypoints.shape[0])*((y_pred-ypoints).sum())\n",
    "            theta_1=theta_1-alpha*(1/ypoints.shape[0])*((y_pred-ypoints)*xpoints).sum()\n",
    "            \n",
    "            ######################3\n",
    "            iter_lst.append(iter)\n",
    "            \n",
    "            #############################3A\n",
    "            theta0_lst.append(theta_0)\n",
    "            theta1_lst.append(theta_1)\n",
    "            ############################\n",
    "            loss_function_lst.append(loss_function)\n",
    "        iter+=1\n",
    "        if loss_function<.001:\n",
    "               break\n",
    "    return theta_0,theta_1,loss_function,theta0_lst,theta1_lst,loss_function_lst\n",
    "theta_0,theta_1,loss_function,lst0,lst1,lst3=StochasticBatch(x_points,y_points,.00001,100000,1)\n",
    "print(f\"theta_0 is {theta_0},theta_1 is {theta_1},loss_function is {loss_function}\")    \n",
    "\n",
    "y_pred1=theta_0+theta_1*x_points\n",
    "print(y_pred1)\n"
   ]
  },
  {
   "cell_type": "code",
   "execution_count": 24,
   "metadata": {},
   "outputs": [
    {
     "data": {
      "text/plain": [
       "[<matplotlib.lines.Line2D at 0x1eab9981790>]"
      ]
     },
     "execution_count": 24,
     "metadata": {},
     "output_type": "execute_result"
    },
    {
     "data": {
      "image/png": "[encoded data removed]",
      "text/plain": [
       "<Figure size 432x288 with 1 Axes>"
      ]
     },
     "metadata": {
      "needs_background": "light"
     },
     "output_type": "display_data"
    }
   ],
   "source": [
    "plt.plot(lst3[0:10000])"
   ]
  },
  {
   "cell_type": "code",
   "execution_count": null,
   "metadata": {},
   "outputs": [],
   "source": []
  },
  {
   "cell_type": "code",
   "execution_count": null,
   "metadata": {},
   "outputs": [],
   "source": []
  },
  {
   "cell_type": "code",
   "execution_count": null,
   "metadata": {},
   "outputs": [],
   "source": []
  },
  {
   "cell_type": "code",
   "execution_count": null,
   "metadata": {},
   "outputs": [],
   "source": []
  },
  {
   "cell_type": "code",
   "execution_count": null,
   "metadata": {},
   "outputs": [],
   "source": []
  },
  {
   "cell_type": "code",
   "execution_count": null,
   "metadata": {},
   "outputs": [],
   "source": []
  },
  {
   "cell_type": "code",
   "execution_count": null,
   "metadata": {},
   "outputs": [],
   "source": []
  },
  {
   "cell_type": "code",
   "execution_count": null,
   "metadata": {},
   "outputs": [],
   "source": []
  }
 ],
 "metadata": {
  "celltoolbar": "Raw Cell Format",
  "kernelspec": {
   "display_name": "Python 3",
   "language": "python",
   "name": "python3"
  },
  "language_info": {
   "codemirror_mode": {
    "name": "ipython",
    "version": 3
   },
   "file_extension": ".py",
   "mimetype": "text/x-python",
   "name": "python",
   "nbconvert_exporter": "python",
   "pygments_lexer": "ipython3",
   "version": "3.8.8"
  }
 },
 "nbformat": 4,
 "nbformat_minor": 4
}
